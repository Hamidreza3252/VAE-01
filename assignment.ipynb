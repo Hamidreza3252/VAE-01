{
 "cells": [
  {
   "cell_type": "markdown",
   "metadata": {},
   "source": [
    "# Variational Autoencoder"
   ]
  },
  {
   "cell_type": "markdown",
   "metadata": {},
   "source": [
    "In this assignment, you will build Variational Autoencoder, train it on the MNIST dataset, and play with its architecture and hyperparameters."
   ]
  },
  {
   "cell_type": "markdown",
   "metadata": {},
   "source": [
    "### Installation\n",
    "\n",
    "You will need ```numpy```, ```tensorflow```, ```keras```, ```matplotlib``` libraries for this assignment"
   ]
  },
  {
   "cell_type": "code",
   "execution_count": 1,
   "metadata": {},
   "outputs": [
    {
     "data": {
      "text/html": [
       "<style>.container { width:80% !important; }</style>"
      ],
      "text/plain": [
       "<IPython.core.display.HTML object>"
      ]
     },
     "metadata": {},
     "output_type": "display_data"
    }
   ],
   "source": [
    "from IPython.core.display import display, HTML\n",
    "display(HTML(\"<style>.container { width:80% !important; }</style>\"))"
   ]
  },
  {
   "cell_type": "code",
   "execution_count": 2,
   "metadata": {},
   "outputs": [
    {
     "name": "stderr",
     "output_type": "stream",
     "text": [
      "C:\\ProgramData\\Anaconda3\\lib\\site-packages\\h5py\\__init__.py:36: FutureWarning: Conversion of the second argument of issubdtype from `float` to `np.floating` is deprecated. In future, it will be treated as `np.float64 == np.dtype(float).type`.\n",
      "  from ._conv import register_converters as _register_converters\n",
      "Using TensorFlow backend.\n"
     ]
    }
   ],
   "source": [
    "import tensorflow as tf\n",
    "\n",
    "import os\n",
    "os.environ['KERAS_BACKEND'] = 'tensorflow'\n",
    "\n",
    "import keras\n",
    "import numpy as np\n",
    "import matplotlib.pyplot as plt\n",
    "\n",
    "from keras.layers import Input, Dense, Lambda, InputLayer, concatenate\n",
    "from keras.models import Model, Sequential\n",
    "from keras import backend as K\n",
    "from keras import metrics\n",
    "from keras.datasets import mnist\n",
    "from keras.utils import np_utils\n",
    "from grader import Grader"
   ]
  },
  {
   "cell_type": "code",
   "execution_count": 3,
   "metadata": {},
   "outputs": [],
   "source": [
    "#from scipy.stats import multivariate_normal\n",
    "import scipy.stats as st\n",
    "\n",
    "sess = None\n",
    "\n",
    "#aa = np.random.multivariate_normal(mean=[0,0], cov=np.diag([2,3]))\n",
    "#print(aa)\n"
   ]
  },
  {
   "cell_type": "markdown",
   "metadata": {},
   "source": [
    "### Grading\n",
    "We will create a grader instance below and use it to collect your answers. Note that these outputs will be stored locally inside grader and will be uploaded to the platform only after running submit function in the last part of this assignment. If you want to make a partial submission, you can run that cell anytime you want."
   ]
  },
  {
   "cell_type": "code",
   "execution_count": 4,
   "metadata": {},
   "outputs": [],
   "source": [
    "grader = Grader()"
   ]
  },
  {
   "cell_type": "markdown",
   "metadata": {},
   "source": [
    "### Variational Autoencoder"
   ]
  },
  {
   "cell_type": "markdown",
   "metadata": {},
   "source": [
    "Recall that Variational Autoencoder is a probabilistic model of data based on a continious mixture of distributions. In the lecture we covered the mixture of gaussians case, but here we will apply VAE to binary MNIST images (each pixel is either black or white). To better model binary data we will use a continuous mixture of binomial distributions: $p(x \\mid w) = \\int p(x \\mid t, w) p(t) dt$, where the prior distribution on the latent code $t$ is standard normal $p(t) = \\mathcal{N}(0, I)$, but probability that $(i, j)$-th pixel is black equals to $(i, j)$-th output of the decoder neural detwork: $p(x_{i, j} \\mid t, w) = \\text{decoder}(t, w)_{i, j}$.\n",
    "\n",
    "To train this model we would like to maximize marginal log-likelihood of our dataset $\\max_w \\log p(X \\mid w)$, but it's very hard to do computationally, so instead we maximize the Variational Lower Bound w.r.t. both the original parameters $w$ and variational distribution $q$ which we define as encoder neural network with parameters $\\phi$ which takes input image $x$ and outputs parameters of the gaussian distribution $q(t \\mid x, \\phi)$: $\\log p(X \\mid w) \\geq \\mathcal{L}(w, \\phi) \\rightarrow \\max_{w, \\phi}$.\n",
    "\n",
    "So overall our model looks as follows: encoder takes an image $x$, produces a distribution over latent codes $q(t \\mid x)$ which should approximate the posterior distribution $p(t \\mid x)$ (at least after training), samples a point from this distribution $\\widehat{t} \\sim q(t \\mid x, \\phi)$, and finally feeds it into a decoder that outputs a distribution over images.\n",
    "\n",
    "![](VAE.png)\n",
    "\n",
    "In the lecture, we also discussed that variational lower bound has an expected value inside which we are going to approximate with sampling. But it is not trivial since we need to differentiate through this approximation. However, we learned about _reparametrization trick_ which suggests instead of sampling from distribution $\\widehat{t} \\sim q(t \\mid x, \\phi)$ sample from a distribution which doesn't depend on any parameters, e.g. standard normal, and then deterministically transform this sample to the desired one: $\\varepsilon \\sim \\mathcal{N}(0, I); ~~\\widehat{t} = m(x, \\phi) + \\varepsilon \\sigma(x, \\phi)$. This way we don't have to worry about our stochastic gradient being biased and can straightforwardly differentiate our loss w.r.t. all the parameters while treating the current sample $\\varepsilon$ as constant.\n",
    "\n",
    "\n"
   ]
  },
  {
   "cell_type": "markdown",
   "metadata": {},
   "source": [
    "### Variational Lower Bound"
   ]
  },
  {
   "cell_type": "markdown",
   "metadata": {},
   "source": [
    "**Task 1** Derive and implement Variational Lower Bound for the continuous mixture of Binomial distributions.\n",
    "\n",
    "**Note** that to pass the test, your code should work with any mini-batch size.\n",
    "\n",
    "**Also note** that although we need a stochastic estimate of VLB: \n",
    "$$\\text{VLB} = \\sum_{i=1}^N \\text{VLB}_i \\approx \\frac{N}{M}\\sum_{i_s}^M \\text{VLB}_{i_s}$$\n",
    "where $N$ is the dataset size, $\\text{VLB}_i$ is the term of VLB corresponding to the $i$-th object, and $M$ is the mini-batch size; in the function below you need to return just average across the mini-batch $\\frac{1}{M}\\sum_{i_s}^M \\text{VLB}_{i_s}$. People usually optimize this unscaled version of VLB since it doesn't depend on the dataset set size - you can write VLB function once and use it for different datasets - and it doesn't affect optimization (it does affect the learning rate though). The correct value for this unscaled VLB should be around $100 - 170$."
   ]
  },
  {
   "cell_type": "markdown",
   "metadata": {},
   "source": [
    "**Multivariate normal distributions**\n",
    "\n",
    "Suppose that we have two multivariate normal distributions, with means $\\mu _{0},\\mu _{1}$ and with (nonsingular) covariance matrices $\\Sigma _{0},\\Sigma _{1}$. If the two distributions have the same dimension, $k$, then the Kullback–Leibler divergence between the distributions is as follows:\n",
    "\n",
    "![](D-KL-01.png)\n",
    "\n",
    "**Hint:**\n",
    "For positive definite matrix $C$:\n",
    "\n",
    "$\\log(\\det(C))=2\\operatorname{trace}(\\log(L))$\n",
    "\n",
    "**Hint: **\n",
    "\n",
    "$f(x) = \\frac{1}{\\sqrt{(2 \\pi)^k \\det \\Sigma}}\n",
    "       \\exp\\left( -\\frac{1}{2} (x - \\mu)^T \\Sigma^{-1} (x - \\mu) \\right),$"
   ]
  },
  {
   "cell_type": "code",
   "execution_count": 5,
   "metadata": {},
   "outputs": [
    {
     "data": {
      "text/plain": [
       "'1.8.0'"
      ]
     },
     "execution_count": 5,
     "metadata": {},
     "output_type": "execute_result"
    }
   ],
   "source": [
    "tf.__version__"
   ]
  },
  {
   "cell_type": "code",
   "execution_count": null,
   "metadata": {},
   "outputs": [],
   "source": []
  },
  {
   "cell_type": "code",
   "execution_count": 6,
   "metadata": {},
   "outputs": [],
   "source": [
    "import tensorflow.contrib.distributions as tf_dist"
   ]
  },
  {
   "cell_type": "code",
   "execution_count": 7,
   "metadata": {},
   "outputs": [],
   "source": [
    "def vlb_binomial(x, x_decoded_mean, t_mean, t_log_var):\n",
    "    \"\"\"Returns the value of Variational Lower Bound\n",
    "    \n",
    "    The inputs are tf.Tensor\n",
    "        x: (batch_size x number_of_pixels) matrix with one image per row with zeros and ones\n",
    "        x_decoded_mean: (batch_size x number_of_pixels) mean of the distribution p(x | t), real numbers from 0 to 1\n",
    "        t_mean: (batch_size x latent_dim) mean vector of the (normal) distribution q(t | x)\n",
    "        t_log_var: (batch_size x latent_dim) logarithm of the variance vector of the (normal) distribution q(t | x)\n",
    "    \n",
    "    Returns:\n",
    "        A tf.Tensor with one element (averaged across the batch), VLB\n",
    "    \"\"\"\n",
    "    \n",
    "    #batch_size = int(x.shape[0])\n",
    "    #number_of_pixels = x.shape[1]\n",
    "    #latent_dim = t_mean.shape[1]\n",
    "    \n",
    "    #q_dist_ti = np.zeros(())\n",
    "    \n",
    "    #vlb_batch = 0.0\n",
    "    #D_KL = 0.0\n",
    "    \n",
    "    #print('batch_size: ', batch_size)\n",
    "    #print('latent_dim: ', latent_dim)\n",
    "    \n",
    "    #t_var = tf.exp(t_log_var)\n",
    "\n",
    "    #D_KL_list = [0.5*(tf.reduce_sum(t_var[i_b]) + tf.tensordot(t_mean[i_b], t_mean[i_b], axes = [[0], [0]])\n",
    "    #            - tf.to_float(latent_dim) - tf.reduce_sum(t_log_var[i_b])) for i_b in range(batch_size)]\n",
    "    #D_KL = tf.add_n(D_KL_list)\n",
    "    \n",
    "    D_KL = tf.reduce_sum((tf.exp(t_log_var) + t_mean**2.0 - t_log_var - 1)/2.0, axis=1)\n",
    "    reconstruction_loss = tf.reduce_sum(x*tf.log(x_decoded_mean+1e-8) + (1-x)*tf.log(1-x_decoded_mean+1e-8), 1)\n",
    "    \n",
    "    #D_KL = tf.Print(D_KL, [-D_KL], 'loss (-VLB): ')\n",
    "    \n",
    "    vlb_sum = tf.reduce_mean(reconstruction_loss - D_KL)\n",
    "    \n",
    "    return -vlb_sum\n",
    "    \n",
    "    ### YOUR CODE HERE"
   ]
  },
  {
   "cell_type": "code",
   "execution_count": 8,
   "metadata": {},
   "outputs": [],
   "source": [
    "if(sess):\n",
    "    sess.close()\n",
    "    sess = None\n",
    "    \n",
    "    print('Session is closed.')\n",
    "\n",
    "tf.reset_default_graph()\n",
    "\n",
    "#get_new_tf_session = False\n",
    "\n",
    "# Start tf session so we can run code.\n",
    "sess = tf.InteractiveSession()\n",
    "# Connect keras to the created session.\n",
    "K.sess = sess\n",
    "#K.set_session(sess)\n"
   ]
  },
  {
   "cell_type": "code",
   "execution_count": 9,
   "metadata": {
    "scrolled": false
   },
   "outputs": [
    {
     "name": "stdout",
     "output_type": "stream",
     "text": [
      "Current answer for task 1 (vlb) is: 157.59694\n"
     ]
    }
   ],
   "source": [
    "grader.submit_vlb(sess, vlb_binomial)"
   ]
  },
  {
   "cell_type": "markdown",
   "metadata": {},
   "source": [
    "## Encoder / decoder definition"
   ]
  },
  {
   "cell_type": "code",
   "execution_count": null,
   "metadata": {},
   "outputs": [],
   "source": []
  },
  {
   "cell_type": "code",
   "execution_count": 10,
   "metadata": {},
   "outputs": [
    {
     "name": "stdout",
     "output_type": "stream",
     "text": [
      "global vars count... 0\n"
     ]
    }
   ],
   "source": [
    "print('global vars count...', len(tf.global_variables()))"
   ]
  },
  {
   "cell_type": "markdown",
   "metadata": {},
   "source": [
    "**Task 2** Read the code below that defines encoder and decoder networks and implement sampling with reparametrization trick in the provided space."
   ]
  },
  {
   "cell_type": "code",
   "execution_count": 11,
   "metadata": {
    "scrolled": false
   },
   "outputs": [
    {
     "name": "stdout",
     "output_type": "stream",
     "text": [
      "sampling started... 6\n",
      "sampling started... 6\n"
     ]
    }
   ],
   "source": [
    "batch_size = 100\n",
    "original_dim = 784 # Number of pixels in MNIST images.\n",
    "latent_dim = 32 # d, dimensionality of the latent code t.\n",
    "intermediate_dim = 512 # Size of the hidden layer.\n",
    "epochs = 40\n",
    "\n",
    "x = Input(batch_shape=(batch_size, original_dim))\n",
    "def create_encoder(input_dim):\n",
    "    # Encoder network.\n",
    "    # We instantiate these layers separately so as to reuse them later\n",
    "    encoder = Sequential(name='encoder')\n",
    "    encoder.add(InputLayer([input_dim]))\n",
    "    encoder.add(Dense(intermediate_dim, activation='relu'))\n",
    "    encoder.add(Dense(intermediate_dim//2, activation='relu'))\n",
    "    encoder.add(Dense(2 * latent_dim))\n",
    "    return encoder\n",
    "encoder = create_encoder(original_dim)\n",
    "\n",
    "get_t_mean = Lambda(lambda h: h[:, :latent_dim])\n",
    "get_t_log_var = Lambda(lambda h: h[:, latent_dim:])\n",
    "h = encoder(x)\n",
    "t_mean = get_t_mean(h)\n",
    "t_log_var = get_t_log_var(h)\n",
    "\n",
    "# Sampling from the distribution \n",
    "#     q(t | x) = N(t_mean, exp(t_log_var))\n",
    "# with reparametrization trick.\n",
    "def sampling(args):\n",
    "    \"\"\"Returns sample from a distribution N(args[0], diag(args[1]))\n",
    "    \n",
    "    The sample should be computed with reparametrization trick.\n",
    "    \n",
    "    The inputs are tf.Tensor\n",
    "        args[0]: (batch_size x latent_dim) mean of the desired distribution\n",
    "        args[1]: (batch_size x latent_dim) logarithm of the variance vector of the desired distribution\n",
    "    \n",
    "    Returns:\n",
    "        A tf.Tensor of size (batch_size x latent_dim), the samples.\n",
    "    \"\"\"\n",
    "    t_mean, t_log_var = args\n",
    "    # YOUR CODE HERE\n",
    "    \n",
    "    #t_var = tf.exp(t_log_var)\n",
    "    #batch_size = int(t_mean.shape[0])\n",
    "    #latent_dim = int(t_mean.shape[1])\n",
    "    \n",
    "    print('sampling started...', len(tf.global_variables()))\n",
    "    \n",
    "    epsilon = tf.random_normal(tf.shape(t_mean), 0, 1, dtype=tf.float32)\n",
    "    return t_mean + tf.exp(0.5*t_log_var) * epsilon\n",
    "\n",
    "t = Lambda(sampling)([t_mean, t_log_var])\n",
    "\n",
    "def create_decoder(input_dim):\n",
    "    # Decoder network\n",
    "    # We instantiate these layers separately so as to reuse them later\n",
    "    decoder = Sequential(name='decoder')\n",
    "    decoder.add(InputLayer([input_dim]))\n",
    "    decoder.add(Dense(intermediate_dim//2, activation='relu'))\n",
    "    decoder.add(Dense(intermediate_dim, activation='relu'))\n",
    "    decoder.add(Dense(original_dim, activation='sigmoid'))\n",
    "    return decoder\n",
    "decoder = create_decoder(latent_dim)\n",
    "x_decoded_mean = decoder(t)"
   ]
  },
  {
   "cell_type": "code",
   "execution_count": null,
   "metadata": {},
   "outputs": [],
   "source": []
  },
  {
   "cell_type": "code",
   "execution_count": 12,
   "metadata": {
    "scrolled": false
   },
   "outputs": [
    {
     "name": "stdout",
     "output_type": "stream",
     "text": [
      "sampling started... 12\n",
      "Current answer for task 2.1 (samples mean) is: -0.124175034\n",
      "Current answer for task 2.2 (samples var) is: 0.03662795\n"
     ]
    }
   ],
   "source": [
    "grader.submit_samples(sess, sampling)"
   ]
  },
  {
   "cell_type": "markdown",
   "metadata": {},
   "source": [
    "## Training the model"
   ]
  },
  {
   "cell_type": "markdown",
   "metadata": {},
   "source": [
    "**Task 3** Run the cells below to train the model with the default settings. Modify the parameters to get better results. Especially pay attention the encoder / encoder architectures (e.g. using more layers, maybe making them convolutional), learning rate, and the number of epochs."
   ]
  },
  {
   "cell_type": "code",
   "execution_count": 13,
   "metadata": {
    "scrolled": true
   },
   "outputs": [],
   "source": [
    "loss = vlb_binomial(x, x_decoded_mean, t_mean, t_log_var)\n",
    "vae = Model(x, x_decoded_mean)\n",
    "# Keras will provide input (x) and output (x_decoded_mean) to the function that\n",
    "# should construct loss, but since our function also depends on other\n",
    "# things (e.g. t_means), it is easier to build the loss in advance and pass\n",
    "# a function that always returns it.\n",
    "vae.compile(optimizer=keras.optimizers.RMSprop(lr=0.001), loss=lambda x, y: loss)"
   ]
  },
  {
   "cell_type": "code",
   "execution_count": null,
   "metadata": {},
   "outputs": [],
   "source": []
  },
  {
   "cell_type": "markdown",
   "metadata": {},
   "source": [
    "#### Load and prepare the data"
   ]
  },
  {
   "cell_type": "code",
   "execution_count": 14,
   "metadata": {},
   "outputs": [],
   "source": [
    "# train the VAE on MNIST digits\n",
    "(x_train, y_train), (x_test, y_test) = mnist.load_data()\n",
    "# One hot encoding.\n",
    "y_train = np_utils.to_categorical(y_train)\n",
    "y_test = np_utils.to_categorical(y_test)\n",
    "\n",
    "x_train = x_train.astype('float32') / 255.\n",
    "x_test = x_test.astype('float32') / 255.\n",
    "x_train = x_train.reshape((len(x_train), np.prod(x_train.shape[1:])))\n",
    "x_test = x_test.reshape((len(x_test), np.prod(x_test.shape[1:])))"
   ]
  },
  {
   "cell_type": "code",
   "execution_count": null,
   "metadata": {},
   "outputs": [],
   "source": []
  },
  {
   "cell_type": "markdown",
   "metadata": {},
   "source": [
    "#### Train the model"
   ]
  },
  {
   "cell_type": "code",
   "execution_count": 15,
   "metadata": {
    "scrolled": false
   },
   "outputs": [
    {
     "name": "stdout",
     "output_type": "stream",
     "text": [
      "Train on 60000 samples, validate on 10000 samples\n",
      "Epoch 1/40\n",
      " - 18s - loss: 159.8170 - val_loss: 133.9478\n",
      "Epoch 2/40\n",
      " - 20s - loss: 126.5370 - val_loss: 118.8956\n",
      "Epoch 3/40\n",
      " - 19s - loss: 117.1259 - val_loss: 113.5373\n",
      "Epoch 4/40\n",
      " - 20s - loss: 112.7094 - val_loss: 111.5050\n",
      "Epoch 5/40\n",
      " - 20s - loss: 110.0736 - val_loss: 108.4934\n",
      "Epoch 6/40\n",
      " - 19s - loss: 108.4259 - val_loss: 108.8826\n",
      "Epoch 7/40\n",
      " - 19s - loss: 107.2227 - val_loss: 105.3871\n",
      "Epoch 8/40\n",
      " - 19s - loss: 106.1998 - val_loss: 105.3543\n",
      "Epoch 9/40\n",
      " - 19s - loss: 105.4158 - val_loss: 104.5645\n",
      "Epoch 10/40\n",
      " - 19s - loss: 104.8503 - val_loss: 104.6448\n",
      "Epoch 11/40\n",
      " - 19s - loss: 104.2270 - val_loss: 103.5698\n",
      "Epoch 12/40\n",
      " - 20s - loss: 103.8029 - val_loss: 104.6636\n",
      "Epoch 13/40\n",
      " - 19s - loss: 103.4064 - val_loss: 103.5989\n",
      "Epoch 14/40\n",
      " - 19s - loss: 103.0541 - val_loss: 103.0475\n",
      "Epoch 15/40\n",
      " - 19s - loss: 102.7765 - val_loss: 102.8480\n",
      "Epoch 16/40\n",
      " - 19s - loss: 102.5376 - val_loss: 102.3062\n",
      "Epoch 17/40\n",
      " - 19s - loss: 102.2657 - val_loss: 103.4032\n",
      "Epoch 18/40\n",
      " - 20s - loss: 102.0713 - val_loss: 102.2852\n",
      "Epoch 19/40\n",
      " - 19s - loss: 101.8750 - val_loss: 103.1591\n",
      "Epoch 20/40\n",
      " - 19s - loss: 101.6850 - val_loss: 102.2982\n",
      "Epoch 21/40\n",
      " - 19s - loss: 101.5276 - val_loss: 101.9896\n",
      "Epoch 22/40\n",
      " - 19s - loss: 101.4174 - val_loss: 102.4177\n",
      "Epoch 23/40\n",
      " - 19s - loss: 101.2159 - val_loss: 102.6342\n",
      "Epoch 24/40\n",
      " - 19s - loss: 101.1399 - val_loss: 101.5202\n",
      "Epoch 25/40\n",
      " - 18s - loss: 101.0709 - val_loss: 102.1255\n",
      "Epoch 26/40\n",
      " - 18s - loss: 100.9209 - val_loss: 101.8916\n",
      "Epoch 27/40\n",
      " - 19s - loss: 100.8102 - val_loss: 102.0111\n",
      "Epoch 28/40\n",
      " - 19s - loss: 100.7652 - val_loss: 101.4071\n",
      "Epoch 29/40\n",
      " - 19s - loss: 100.6882 - val_loss: 102.5918\n",
      "Epoch 30/40\n",
      " - 19s - loss: 100.5697 - val_loss: 101.7617\n",
      "Epoch 31/40\n",
      " - 19s - loss: 100.4596 - val_loss: 103.2819\n",
      "Epoch 32/40\n",
      " - 19s - loss: 100.4209 - val_loss: 102.0261\n",
      "Epoch 33/40\n",
      " - 19s - loss: 100.3411 - val_loss: 101.1993\n",
      "Epoch 34/40\n",
      " - 19s - loss: 100.2882 - val_loss: 101.1453\n",
      "Epoch 35/40\n",
      " - 19s - loss: 100.2645 - val_loss: 101.2841\n",
      "Epoch 36/40\n",
      " - 19s - loss: 100.1414 - val_loss: 100.9927\n",
      "Epoch 37/40\n",
      " - 19s - loss: 100.0761 - val_loss: 101.6217\n",
      "Epoch 38/40\n",
      " - 19s - loss: 100.0308 - val_loss: 100.9383\n",
      "Epoch 39/40\n",
      " - 19s - loss: 100.0097 - val_loss: 101.1806\n",
      "Epoch 40/40\n",
      " - 19s - loss: 99.9179 - val_loss: 101.0835\n"
     ]
    }
   ],
   "source": [
    "hist = vae.fit(x=x_train, y=x_train,\n",
    "               shuffle=True,\n",
    "               epochs=epochs,\n",
    "               batch_size=batch_size,\n",
    "               validation_data=(x_test, x_test),\n",
    "               verbose=2)"
   ]
  },
  {
   "cell_type": "markdown",
   "metadata": {},
   "source": [
    "### Visualize reconstructions for train and validation data\n",
    "In the picture below you can see the reconstruction ability of your network on training and validation data. In each of the two images, the left column is MNIST images and the right column is the corresponding image after passing through autoencoder (or more precisely the mean of the binomial distribution over the output images).\n",
    "\n",
    "Note that getting the best possible reconstruction is not the point of VAE, the KL term of the objective specifically hurts the reconstruction performance. But the reconstruction should be anyway reasonable and they provide a visual debugging tool."
   ]
  },
  {
   "cell_type": "code",
   "execution_count": 16,
   "metadata": {},
   "outputs": [
    {
     "data": {
      "text/plain": [
       "100"
      ]
     },
     "execution_count": 16,
     "metadata": {},
     "output_type": "execute_result"
    }
   ],
   "source": [
    "batch_size"
   ]
  },
  {
   "cell_type": "code",
   "execution_count": 17,
   "metadata": {},
   "outputs": [
    {
     "data": {
      "image/png": "[encoded data removed]",
      "text/plain": [
       "<Figure size 720x720 with 2 Axes>"
      ]
     },
     "metadata": {},
     "output_type": "display_data"
    }
   ],
   "source": [
    "fig = plt.figure(figsize=(10, 10))\n",
    "for fid_idx, (data, title) in enumerate(\n",
    "            zip([x_train, x_test], ['Train', 'Validation'])):\n",
    "    n = 10  # figure with 10 x 2 digits\n",
    "    digit_size = 28\n",
    "    figure = np.zeros((digit_size * n, digit_size * 2))\n",
    "    decoded = sess.run(x_decoded_mean, feed_dict={x: data[:batch_size, :]})\n",
    "    for i in range(10):\n",
    "        figure[i * digit_size: (i + 1) * digit_size,\n",
    "               :digit_size] = data[i, :].reshape(digit_size, digit_size)\n",
    "        figure[i * digit_size: (i + 1) * digit_size,\n",
    "               digit_size:] = decoded[i, :].reshape(digit_size, digit_size)\n",
    "    ax = fig.add_subplot(1, 2, fid_idx + 1)\n",
    "    ax.imshow(figure, cmap='Greys_r')\n",
    "    ax.set_title(title)\n",
    "    ax.axis('off')\n",
    "plt.show()"
   ]
  },
  {
   "cell_type": "markdown",
   "metadata": {
    "collapsed": true
   },
   "source": [
    "### Sending the results of your best model as Task 3 submission"
   ]
  },
  {
   "cell_type": "code",
   "execution_count": 18,
   "metadata": {
    "scrolled": true
   },
   "outputs": [
    {
     "name": "stdout",
     "output_type": "stream",
     "text": [
      "Current answer for task 3 (best val loss) is: 101.08351234436036\n"
     ]
    }
   ],
   "source": [
    "grader.submit_best_val_loss(hist)"
   ]
  },
  {
   "cell_type": "code",
   "execution_count": 19,
   "metadata": {
    "scrolled": true
   },
   "outputs": [
    {
     "name": "stdout",
     "output_type": "stream",
     "text": [
      "_________________________________________________________________\n",
      "Layer (type)                 Output Shape              Param #   \n",
      "=================================================================\n",
      "input_6 (InputLayer)         (None, 784)               0         \n",
      "_________________________________________________________________\n",
      "dense_1 (Dense)              (None, 512)               401920    \n",
      "_________________________________________________________________\n",
      "dense_2 (Dense)              (None, 256)               131328    \n",
      "_________________________________________________________________\n",
      "dense_3 (Dense)              (None, 64)                16448     \n",
      "=================================================================\n",
      "Total params: 549,696\n",
      "Trainable params: 549,696\n",
      "Non-trainable params: 0\n",
      "_________________________________________________________________\n"
     ]
    }
   ],
   "source": [
    "encoder.summary()"
   ]
  },
  {
   "cell_type": "code",
   "execution_count": 20,
   "metadata": {},
   "outputs": [
    {
     "name": "stdout",
     "output_type": "stream",
     "text": [
      "_________________________________________________________________\n",
      "Layer (type)                 Output Shape              Param #   \n",
      "=================================================================\n",
      "input_7 (InputLayer)         (None, 32)                0         \n",
      "_________________________________________________________________\n",
      "dense_4 (Dense)              (None, 256)               8448      \n",
      "_________________________________________________________________\n",
      "dense_5 (Dense)              (None, 512)               131584    \n",
      "_________________________________________________________________\n",
      "dense_6 (Dense)              (None, 784)               402192    \n",
      "=================================================================\n",
      "Total params: 542,224\n",
      "Trainable params: 542,224\n",
      "Non-trainable params: 0\n",
      "_________________________________________________________________\n"
     ]
    }
   ],
   "source": [
    "decoder.summary()"
   ]
  },
  {
   "cell_type": "markdown",
   "metadata": {},
   "source": [
    "## Hallucinating new data\n",
    "**Task 4** Write code to generate new samples of images from your trained VAE. To do that you have to sample from the prior distribution $p(t)$ and then from the likelihood $p(x \\mid t)$.\n",
    "\n",
    "**Note** that the sampling you've written in Task 2 was for the variational distribution $q(t \\mid x)$, while here you need to sample from the prior."
   ]
  },
  {
   "cell_type": "code",
   "execution_count": null,
   "metadata": {},
   "outputs": [],
   "source": []
  },
  {
   "cell_type": "code",
   "execution_count": 21,
   "metadata": {},
   "outputs": [
    {
     "name": "stdout",
     "output_type": "stream",
     "text": [
      "Tensor(\"lambda_1/strided_slice:0\", shape=(100, 32), dtype=float32)\n",
      "Tensor(\"lambda_2/strided_slice:0\", shape=(100, 32), dtype=float32)\n"
     ]
    }
   ],
   "source": [
    "print(t_mean)\n",
    "print(t_log_var)\n"
   ]
  },
  {
   "cell_type": "code",
   "execution_count": null,
   "metadata": {},
   "outputs": [],
   "source": []
  },
  {
   "cell_type": "code",
   "execution_count": 22,
   "metadata": {},
   "outputs": [],
   "source": [
    "n_samples = 10  # To pass automatic grading please use at least 2 samples here.\n",
    "# YOUR CODE HERE.\n",
    "# ...\n",
    "# sampled_im_mean is a tf.Tensor of size 10 x 784 with 10 random\n",
    "# images sampled from the vae model.\n",
    "\n",
    "def p_t_sampling(args):\n",
    "    n_samples = args\n",
    "    \n",
    "    return tf.random_normal(shape=(tf.to_int32(n_samples), tf.to_int32(latent_dim)), mean=0.0)\n",
    "\n",
    "#t_sampling = Lambda(p_t_sampling)([tf.constant_initializer(n_samples), tf.constant_initializer(latent_dim)])\n",
    "t_sampling = Lambda(p_t_sampling)(tf.constant(n_samples))\n",
    "\n",
    "#print(t_sampling)\n",
    "\n",
    "x_decoded_mean = decoder(t_sampling)\n",
    "#sampled_im_mean = sess.run(x_decoded_mean)\n",
    "\n",
    "#decoder_1 = create_decoder(latent_dim)\n",
    "\n",
    "#decoder_1.summary()\n",
    "#decoder_1_mean = decoder_1(t_sampling)\n",
    "\n",
    "\n",
    "#sample_t_from_x = sess.run(t, feed_dict={x: data[:, :]})\n",
    "#t_means = sample_t_from_x.mean(axis=0)\n",
    "#t_std = sample_t_from_x.std(axis=0)\n",
    "\n",
    "#p_t = st.multivariate_normal(mean=np.zeros(n_samples, latent_dim), cov=np.ones())\n",
    "##p_t_samples = np.random.normal(loc=np.zeros((n_samples, latent_dim)))\n",
    "##p_t_samples = tf.random_normal(shape=(n_samples, latent_dim), mean=0.0)\n",
    "\n",
    "#sampled_im_mean = sess.run(decoder_1_mean, feed_dict={})\n",
    "\n",
    "#t_samples_mean = p_t_samples.mean(axis=0)\n",
    "#t_samples_log_var = np.log(p_t_samples.std(axis=0))\n",
    "#t_samples = np.concatenate((t_samples_mean.reshape(1,-1).T, t_samples_log_var.reshape(1,-1).T), axis=1)\n",
    "\n",
    "#p_t_samples = sampling([t_samples_mean, t_samples_log_var])\n",
    "\n",
    "\n",
    "#sampled_im_mean = sess.run(x_decoded_mean, feed_dict={t: sample_t})\n",
    "\n",
    "\n",
    "##sample_indices = np.random.randint(0, 100, size=n_samples)\n",
    "\n",
    "##print(sample_indices)\n",
    "\n",
    "#for i in range(n_samples):\n",
    "#    p_x_t = tf.contrib.distributions.MultivariateNormalFullCovariance(loc=t_mean, covariance_matrix=tf.convert_to_tensor([tf.diag(t_var[i, :]) for i in range(t_var.shape[0])]))\n",
    "    \n",
    "##p_x_t_samples = p_x_t.sample(sample_shape=10)\n",
    "\n",
    "#tf.contrib.distributions.MultivariateNormalFullCovariance.sample()\n",
    "\n",
    "##print(p_x_t)\n",
    "##print(p_x_t_samples)\n",
    "\n",
    "#t_means = data.mean(axis=0)\n",
    "#t_std = data.std(axis=0)\n",
    "#sample_t = np.random.normal(loc=t_mean, scale=t_std, size=(n_samples, latent_dim))\n",
    "#sampled_im_mean = sess.run(x_decoded_mean, feed_dict={t: sample_t})\n"
   ]
  },
  {
   "cell_type": "code",
   "execution_count": 23,
   "metadata": {},
   "outputs": [
    {
     "data": {
      "image/png": "[encoded data removed]",
      "text/plain": [
       "<Figure size 432x288 with 10 Axes>"
      ]
     },
     "metadata": {},
     "output_type": "display_data"
    }
   ],
   "source": [
    "#sampled_im_mean_np = sess.run(sampled_im_mean)\n",
    "sampled_im_mean_np = sess.run(x_decoded_mean)\n",
    "# Show the sampled images.\n",
    "plt.figure()\n",
    "for i in range(n_samples):\n",
    "    ax = plt.subplot(n_samples // 5 + 1, 5, i + 1)\n",
    "    plt.imshow(sampled_im_mean_np[i, :].reshape(28, 28), cmap='gray')\n",
    "    ax.axis('off')\n",
    "plt.show()"
   ]
  },
  {
   "cell_type": "code",
   "execution_count": 24,
   "metadata": {},
   "outputs": [
    {
     "name": "stdout",
     "output_type": "stream",
     "text": [
      "Current answer for task 4.1 (hallucinating mean) is: 0.13626595\n",
      "Current answer for task 4.2 (hallucinating var) is: 0.18438603\n"
     ]
    }
   ],
   "source": [
    "#grader.submit_hallucinating(sess, sampled_im_mean)\n",
    "grader.submit_hallucinating(sess, tf.convert_to_tensor(sampled_im_mean_np))"
   ]
  },
  {
   "cell_type": "markdown",
   "metadata": {},
   "source": [
    "# Conditional VAE"
   ]
  },
  {
   "cell_type": "markdown",
   "metadata": {},
   "source": [
    "In the final task, you will modify your code to obtain Conditional Variational Autoencoder [1]. The idea is very simple: to be able to control the samples you generate, we condition all the distributions on some additional information. In our case, this additional information will be the class label (the digit on the image, from 0 to 9).\n",
    "\n",
    "![](CVAE.png)\n",
    "\n",
    "So now both the likelihood and the variational distributions are conditioned on the class label: $p(x \\mid t, \\text{label}, w)$, $q(t \\mid x, \\text{label}, \\phi)$.\n",
    "\n",
    "The only thing you have to change in your code is to concatenate input image $x$ with (one-hot) label of this image to pass into the encoder $q$ and to concatenate latent code $t$ with the same label to pass into the decoder $p$. Note that it's slightly harder to do with convolutional encoder / decoder model.\n",
    "\n",
    "[1] Sohn, Kihyuk, Honglak Lee, and Xinchen Yan. “Learning Structured Output Representation using Deep Conditional Generative Models.” Advances in Neural Information Processing Systems. 2015."
   ]
  },
  {
   "cell_type": "markdown",
   "metadata": {},
   "source": [
    "## Final task"
   ]
  },
  {
   "cell_type": "markdown",
   "metadata": {},
   "source": [
    "**Task 5.1** Implement CVAE model. You may reuse ```create_encoder``` and ```create_decoder``` modules defined previously (now you can see why they accept the input size as an argument ;) ). You may also need `concatenate` Keras layer to concat labels with input data and latent code.\n",
    "\n",
    "To finish this task, you should go to `Conditionally hallucinate data` section and find there Task 5.2"
   ]
  },
  {
   "cell_type": "code",
   "execution_count": null,
   "metadata": {},
   "outputs": [],
   "source": []
  },
  {
   "cell_type": "code",
   "execution_count": 25,
   "metadata": {},
   "outputs": [
    {
     "name": "stdout",
     "output_type": "stream",
     "text": [
      "sampling started... 34\n",
      "sampling started... 34\n"
     ]
    }
   ],
   "source": [
    "# One-hot labels placeholder.\n",
    "###x = Input(batch_shape=(batch_size, original_dim))\n",
    "###label = Input(batch_shape=(batch_size, 10))\n",
    "\n",
    "# YOUR CODE HERE.\n",
    "###cond_t_mean =  # Mean of the latent code (without label) for cvae model.\n",
    "###cond_t_log_var = # Logarithm of the variance of the latent code (without label) for cvae model.\n",
    "###cond_x_decoded_mean =  # Final output of the cvae model.\n",
    "\n",
    "# One-hot labels placeholder.\n",
    "x = Input(batch_shape=(None, original_dim))\n",
    "label = Input(batch_shape=(None, 10))\n",
    "encoder = create_encoder(original_dim+10)\n",
    "\n",
    "get_cond_t_mean = Lambda(lambda h: h[:, :latent_dim])\n",
    "get_cond_t_log_var = Lambda(lambda h: h[:, latent_dim:])\n",
    "h = encoder(concatenate([x, label]))\n",
    "\n",
    "# YOUR CODE HERE.\n",
    "cond_t_mean =  get_cond_t_mean(h)# Mean of the latent code (without label) for cvae model.\n",
    "cond_t_log_var = get_cond_t_log_var(h)# Logarithm of the variance of the latent code (without label) for cvae model.\n",
    "t = Lambda(sampling)([cond_t_mean, cond_t_log_var])\n",
    "decoder = create_decoder(latent_dim+10)\n",
    "cond_x_decoded_mean = decoder(concatenate([t, label])) # Final output of the cvae model."
   ]
  },
  {
   "cell_type": "markdown",
   "metadata": {},
   "source": [
    "## Define the loss and the model"
   ]
  },
  {
   "cell_type": "code",
   "execution_count": 26,
   "metadata": {},
   "outputs": [],
   "source": [
    "conditional_loss = vlb_binomial(x, cond_x_decoded_mean, cond_t_mean, cond_t_log_var)\n",
    "cvae = Model([x, label], cond_x_decoded_mean)\n",
    "cvae.compile(optimizer=keras.optimizers.RMSprop(lr=0.0005), loss=lambda x, y: conditional_loss)"
   ]
  },
  {
   "cell_type": "markdown",
   "metadata": {},
   "source": [
    "### Train the model"
   ]
  },
  {
   "cell_type": "code",
   "execution_count": null,
   "metadata": {},
   "outputs": [],
   "source": []
  },
  {
   "cell_type": "code",
   "execution_count": 27,
   "metadata": {},
   "outputs": [
    {
     "name": "stdout",
     "output_type": "stream",
     "text": [
      "Train on 60000 samples, validate on 10000 samples\n",
      "Epoch 1/40\n",
      " - 18s - loss: 163.3502 - val_loss: 136.8607\n",
      "Epoch 2/40\n",
      " - 18s - loss: 130.0634 - val_loss: 123.0573\n",
      "Epoch 3/40\n",
      " - 18s - loss: 119.6198 - val_loss: 114.6656\n",
      "Epoch 4/40\n",
      " - 18s - loss: 113.8727 - val_loss: 110.8431\n",
      "Epoch 5/40\n",
      " - 19s - loss: 110.4797 - val_loss: 108.9749\n",
      "Epoch 6/40\n",
      " - 19s - loss: 108.1075 - val_loss: 106.2627\n",
      "Epoch 7/40\n",
      " - 18s - loss: 106.3449 - val_loss: 105.1020\n",
      "Epoch 8/40\n",
      " - 19s - loss: 105.0149 - val_loss: 105.4110\n",
      "Epoch 9/40\n",
      " - 19s - loss: 103.9281 - val_loss: 103.9355\n",
      "Epoch 10/40\n",
      " - 19s - loss: 103.0313 - val_loss: 102.2196\n",
      "Epoch 11/40\n",
      " - 18s - loss: 102.3090 - val_loss: 101.1421\n",
      "Epoch 12/40\n",
      " - 19s - loss: 101.6410 - val_loss: 101.3090\n",
      "Epoch 13/40\n",
      " - 18s - loss: 101.0901 - val_loss: 100.2959\n",
      "Epoch 14/40\n",
      " - 18s - loss: 100.5336 - val_loss: 100.5836\n",
      "Epoch 15/40\n",
      " - 19s - loss: 100.1036 - val_loss: 99.7351\n",
      "Epoch 16/40\n",
      " - 18s - loss: 99.6811 - val_loss: 100.3988\n",
      "Epoch 17/40\n",
      " - 18s - loss: 99.3398 - val_loss: 99.0104\n",
      "Epoch 18/40\n",
      " - 18s - loss: 98.9861 - val_loss: 98.7422\n",
      "Epoch 19/40\n",
      " - 19s - loss: 98.6645 - val_loss: 98.6853\n",
      "Epoch 20/40\n",
      " - 18s - loss: 98.3779 - val_loss: 97.9434\n",
      "Epoch 21/40\n",
      " - 19s - loss: 98.1042 - val_loss: 98.7108\n",
      "Epoch 22/40\n",
      " - 19s - loss: 97.8372 - val_loss: 98.0118\n",
      "Epoch 23/40\n",
      " - 18s - loss: 97.5969 - val_loss: 97.5061\n",
      "Epoch 24/40\n",
      " - 18s - loss: 97.3436 - val_loss: 97.5559\n",
      "Epoch 25/40\n",
      " - 19s - loss: 97.1871 - val_loss: 97.9186\n",
      "Epoch 26/40\n",
      " - 19s - loss: 97.0196 - val_loss: 97.2594\n",
      "Epoch 27/40\n",
      " - 19s - loss: 96.8144 - val_loss: 97.2461\n",
      "Epoch 28/40\n",
      " - 19s - loss: 96.6423 - val_loss: 97.0972\n",
      "Epoch 29/40\n",
      " - 19s - loss: 96.4822 - val_loss: 96.6271\n",
      "Epoch 30/40\n",
      " - 20s - loss: 96.3246 - val_loss: 97.6332\n",
      "Epoch 31/40\n",
      " - 27s - loss: 96.1842 - val_loss: 96.9275\n",
      "Epoch 32/40\n",
      " - 24s - loss: 96.0058 - val_loss: 96.4000\n",
      "Epoch 33/40\n",
      " - 21s - loss: 95.8857 - val_loss: 97.0530\n",
      "Epoch 34/40\n",
      " - 22s - loss: 95.7426 - val_loss: 96.3647\n",
      "Epoch 35/40\n",
      " - 21s - loss: 95.6579 - val_loss: 96.3749\n",
      "Epoch 36/40\n",
      " - 22s - loss: 95.5372 - val_loss: 96.4155\n",
      "Epoch 37/40\n",
      " - 20s - loss: 95.3837 - val_loss: 96.0964\n",
      "Epoch 38/40\n",
      " - 20s - loss: 95.3142 - val_loss: 96.7487\n",
      "Epoch 39/40\n",
      " - 20s - loss: 95.2121 - val_loss: 96.2707\n",
      "Epoch 40/40\n",
      " - 20s - loss: 95.1350 - val_loss: 95.8356\n"
     ]
    }
   ],
   "source": [
    "hist = cvae.fit(x=[x_train, y_train],\n",
    "                y=x_train,\n",
    "                shuffle=True,\n",
    "                epochs=epochs,\n",
    "                batch_size=batch_size,\n",
    "                validation_data=([x_test, y_test], x_test),\n",
    "                verbose=2)"
   ]
  },
  {
   "cell_type": "markdown",
   "metadata": {},
   "source": [
    "### Visualize reconstructions for train and validation data"
   ]
  },
  {
   "cell_type": "code",
   "execution_count": 28,
   "metadata": {},
   "outputs": [
    {
     "data": {
      "image/png": "[encoded data removed]",
      "text/plain": [
       "<Figure size 720x720 with 2 Axes>"
      ]
     },
     "metadata": {},
     "output_type": "display_data"
    }
   ],
   "source": [
    "fig = plt.figure(figsize=(10, 10))\n",
    "for fid_idx, (x_data, y_data, title) in enumerate(\n",
    "            zip([x_train, x_test], [y_train, y_test], ['Train', 'Validation'])):\n",
    "    n = 10  # figure with 10 x 2 digits\n",
    "    digit_size = 28\n",
    "    figure = np.zeros((digit_size * n, digit_size * 2))\n",
    "    decoded = sess.run(cond_x_decoded_mean,\n",
    "                       feed_dict={x: x_data[:batch_size, :],\n",
    "                                  label: y_data[:batch_size, :]})\n",
    "    for i in range(10):\n",
    "        figure[i * digit_size: (i + 1) * digit_size,\n",
    "               :digit_size] = x_data[i, :].reshape(digit_size, digit_size)\n",
    "        figure[i * digit_size: (i + 1) * digit_size,\n",
    "               digit_size:] = decoded[i, :].reshape(digit_size, digit_size)\n",
    "    ax = fig.add_subplot(1, 2, fid_idx + 1)\n",
    "    ax.imshow(figure, cmap='Greys_r')\n",
    "    ax.set_title(title)\n",
    "    ax.axis('off')\n",
    "plt.show()"
   ]
  },
  {
   "cell_type": "markdown",
   "metadata": {},
   "source": [
    "## Conditionally hallucinate data\n",
    "**Task 5.2** Implement the conditional sampling from the distribution $p(x \\mid t, \\text{label})$ by firstly sampling from the prior $p(t)$ and then sampling from the likelihood $p(x \\mid t, \\text{label})$."
   ]
  },
  {
   "cell_type": "code",
   "execution_count": 29,
   "metadata": {},
   "outputs": [
    {
     "name": "stdout",
     "output_type": "stream",
     "text": [
      "Tensor(\"lambda_7/add:0\", shape=(?, 32), dtype=float32)\n",
      "Tensor(\"input_9:0\", shape=(?, 10), dtype=float32)\n"
     ]
    }
   ],
   "source": [
    "print(t)\n",
    "print(label)"
   ]
  },
  {
   "cell_type": "code",
   "execution_count": 30,
   "metadata": {},
   "outputs": [],
   "source": [
    "# Prepare one hot labels of form\n",
    "#   0 0 0 0 0 1 1 1 1 1 2 2 2 2 2 ...\n",
    "# to sample five zeros, five ones, etc\n",
    "###curr_labels = np.eye(10)\n",
    "###curr_labels = np.repeat(curr_labels, 5, axis=0)  # Its shape is 50 x 10.\n",
    "# YOUR CODE HERE.\n",
    "# ...\n",
    "# cond_sampled_im_mean is a tf.Tensor of size 50 x 784 with 5 random zeros,\n",
    "# then 5 random ones, etc sampled from the cvae model.\n",
    "###cond_sampled_im_mean = \n",
    "\n",
    "# Prepare one hot labels of form\n",
    "#   0 0 0 0 0 1 1 1 1 1 2 2 2 2 2 ...\n",
    "# to sample five zeros, five ones, etc\n",
    "curr_labels = np.eye(10)\n",
    "curr_labels = np.repeat(curr_labels, 5, axis=0)  # Its shape is 50 x 10.\n",
    "# YOUR CODE HERE.\n",
    "\n",
    "def cond_p_t_sampling(args):\n",
    "    n_samples = args\n",
    "    \n",
    "    return tf.random_normal(shape=(tf.to_int32(n_samples), tf.to_int32(latent_dim)), mean=0.0)\n",
    "\n",
    "#t_sampling = Lambda(p_t_sampling)([tf.constant_initializer(n_samples), tf.constant_initializer(latent_dim)])\n",
    "t_sampling = Lambda(cond_p_t_sampling)(tf.constant(5*n_samples))\n",
    "\n",
    "#cond_x_decoded_mean = decoder(concatenate([t_sampling, tf.convert_to_tensor(curr_labels, dtype=tf.float32)]))\n",
    "cond_x_decoded_mean = decoder(tf.concat([t_sampling, tf.convert_to_tensor(curr_labels, dtype=tf.float32)], axis=1))\n",
    "cond_sampled_im_mean = cond_x_decoded_mean\n",
    "#cond_x_decoded_mean = decoder(concatenate([t_sampling]))\n",
    "\n",
    "#sample_t_from_x = sess.run(t, feed_dict={x: data[:, :], label: y_data[:, :]})\n",
    "#t_means = sample_t_from_x.mean(axis=0)\n",
    "#t_std = sample_t_from_x.std(axis=0)\n",
    "#sample_t = np.random.normal(t_means, t_std, (50, latent_dim))\n",
    "# ...\n",
    "# cond_sampled_im_mean is a tf.Tensor of size 50 x 784 with 5 random zeros,\n",
    "# then 5 random ones, etc sampled from the cvae model.\n",
    "#cond_sampled_im_mean = sess.run(cond_x_decoded_mean, feed_dict={t: sample_t, label:curr_labels})"
   ]
  },
  {
   "cell_type": "code",
   "execution_count": 31,
   "metadata": {},
   "outputs": [
    {
     "data": {
      "image/png": "[encoded data removed]",
      "text/plain": [
       "<Figure size 720x720 with 50 Axes>"
      ]
     },
     "metadata": {},
     "output_type": "display_data"
    }
   ],
   "source": [
    "cond_sampled_im_mean_np = sess.run(cond_x_decoded_mean)\n",
    "#cond_sampled_im_mean_np = sess.run(cond_sampled_im_mean)\n",
    "# Show the sampled images.\n",
    "plt.figure(figsize=(10, 10))\n",
    "global_idx = 0\n",
    "for digit in range(10):\n",
    "    for _ in range(5):\n",
    "        ax = plt.subplot(10, 5, global_idx + 1)\n",
    "        plt.imshow(cond_sampled_im_mean_np[global_idx, :].reshape(28, 28), cmap='gray')\n",
    "        ax.axis('off')\n",
    "        global_idx += 1\n",
    "plt.show()"
   ]
  },
  {
   "cell_type": "code",
   "execution_count": 32,
   "metadata": {},
   "outputs": [
    {
     "name": "stdout",
     "output_type": "stream",
     "text": [
      "Current answer for task 5.1 (conditional hallucinating mean) is: 0.10195800491285902\n",
      "Current answer for task 5.2 (conditional hallucinating var) is: 0.056088023100978504\n"
     ]
    }
   ],
   "source": [
    "# Submit Task 5 (both 5.1 and 5.2).\n",
    "grader.submit_conditional_hallucinating(sess, cond_sampled_im_mean)"
   ]
  },
  {
   "cell_type": "markdown",
   "metadata": {},
   "source": [
    "# Authorization & Submission\n",
    "To submit assignment parts to Cousera platform, please, enter your e-mail and token into variables below. You can generate the token on this programming assignment page. <b>Note:</b> Token expires 30 minutes after generation."
   ]
  },
  {
   "cell_type": "code",
   "execution_count": 44,
   "metadata": {},
   "outputs": [
    {
     "name": "stdout",
     "output_type": "stream",
     "text": [
      "You want to submit these numbers:\n",
      "Task 1 (vlb): 157.59694\n",
      "Task 2.1 (samples mean): -0.12125703\n",
      "Task 2.2 (samples var): 0.037394192\n",
      "Task 3 (best val loss): 102.66017654418945\n",
      "Task 4.1 (hallucinating mean): 0.11556433\n",
      "Task 4.2 (hallucinating var): 0.18150362\n",
      "Task 5.1 (conditional hallucinating mean): 0.10104243089301472\n",
      "Task 5.2 (conditional hallucinating var): 0.051435803837357436\n"
     ]
    }
   ],
   "source": [
    "STUDENT_EMAIL = 'Hamid.Mirkhani@gmail.com'\n",
    "STUDENT_TOKEN = 'RxwYto0ajS05fgYR'\n",
    "grader.status()"
   ]
  },
  {
   "cell_type": "code",
   "execution_count": 45,
   "metadata": {},
   "outputs": [
    {
     "name": "stdout",
     "output_type": "stream",
     "text": [
      "Submitted to Coursera platform. See results on assignment page!\n"
     ]
    }
   ],
   "source": [
    "grader.submit(STUDENT_EMAIL, STUDENT_TOKEN)"
   ]
  },
  {
   "cell_type": "markdown",
   "metadata": {},
   "source": [
    "# Playtime (UNGRADED)\n",
    "Once you passed all the tests, modify the code below to work with the mixture of Gaussian distributions (in contrast to the mixture of Binomial distributions), and redo the experiments with CIFAR-10 dataset, which are much full color natural images."
   ]
  },
  {
   "cell_type": "code",
   "execution_count": null,
   "metadata": {},
   "outputs": [],
   "source": [
    "from keras.datasets import cifar10\n",
    "(x_train, y_train), (x_test, y_test) = cifar10.load_data()"
   ]
  },
  {
   "cell_type": "code",
   "execution_count": 4,
   "metadata": {},
   "outputs": [
    {
     "data": {
      "image/png": "[encoded data removed]",
      "text/plain": [
       "<matplotlib.figure.Figure at 0x122530410>"
      ]
     },
     "metadata": {},
     "output_type": "display_data"
    }
   ],
   "source": [
    "plt.imshow(x_train[7, :])\n",
    "plt.show()"
   ]
  },
  {
   "cell_type": "code",
   "execution_count": null,
   "metadata": {
    "collapsed": true
   },
   "outputs": [],
   "source": [
    "import matplotlib.pyplot as plt\n",
    "mean = [0, 0]\n",
    "cov = [[1, 0], [0, 1]]  # diagonal covariance\n",
    "x, y = np.random.multivariate_normal(mean, cov, 5).T\n",
    "plt.plot(x, y, 'x')\n",
    "plt.axis('equal')\n",
    "plt.show()"
   ]
  }
 ],
 "metadata": {
  "kernelspec": {
   "display_name": "Python 3",
   "language": "python",
   "name": "python3"
  },
  "language_info": {
   "codemirror_mode": {
    "name": "ipython",
    "version": 3
   },
   "file_extension": ".py",
   "mimetype": "text/x-python",
   "name": "python",
   "nbconvert_exporter": "python",
   "pygments_lexer": "ipython3",
   "version": "3.6.6"
  }
 },
 "nbformat": 4,
 "nbformat_minor": 2
}
