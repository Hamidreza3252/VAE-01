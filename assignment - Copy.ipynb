{
 "cells": [
  {
   "cell_type": "markdown",
   "metadata": {},
   "source": [
    "# Variational Autoencoder"
   ]
  },
  {
   "cell_type": "markdown",
   "metadata": {},
   "source": [
    "In this assignment, you will build Variational Autoencoder, train it on the MNIST dataset, and play with its architecture and hyperparameters."
   ]
  },
  {
   "cell_type": "markdown",
   "metadata": {},
   "source": [
    "### Installation\n",
    "\n",
    "You will need ```numpy```, ```tensorflow```, ```keras```, ```matplotlib``` libraries for this assignment"
   ]
  },
  {
   "cell_type": "code",
   "execution_count": 1,
   "metadata": {},
   "outputs": [
    {
     "data": {
      "text/html": [
       "<style>.container { width:80% !important; }</style>"
      ],
      "text/plain": [
       "<IPython.core.display.HTML object>"
      ]
     },
     "metadata": {},
     "output_type": "display_data"
    }
   ],
   "source": [
    "from IPython.core.display import display, HTML\n",
    "display(HTML(\"<style>.container { width:80% !important; }</style>\"))"
   ]
  },
  {
   "cell_type": "code",
   "execution_count": 2,
   "metadata": {},
   "outputs": [
    {
     "name": "stderr",
     "output_type": "stream",
     "text": [
      "C:\\ProgramData\\Anaconda3\\lib\\site-packages\\h5py\\__init__.py:36: FutureWarning: Conversion of the second argument of issubdtype from `float` to `np.floating` is deprecated. In future, it will be treated as `np.float64 == np.dtype(float).type`.\n",
      "  from ._conv import register_converters as _register_converters\n",
      "Using TensorFlow backend.\n"
     ]
    }
   ],
   "source": [
    "import tensorflow as tf\n",
    "\n",
    "import os\n",
    "os.environ['KERAS_BACKEND'] = 'tensorflow'\n",
    "\n",
    "import keras\n",
    "import numpy as np\n",
    "import matplotlib.pyplot as plt\n",
    "\n",
    "from keras.layers import Input, Dense, Lambda, InputLayer, concatenate\n",
    "from keras.models import Model, Sequential\n",
    "from keras import backend as K\n",
    "from keras import metrics\n",
    "from keras.datasets import mnist\n",
    "from keras.utils import np_utils\n",
    "from grader import Grader"
   ]
  },
  {
   "cell_type": "code",
   "execution_count": 3,
   "metadata": {},
   "outputs": [],
   "source": [
    "#from scipy.stats import multivariate_normal\n",
    "import scipy.stats as st\n",
    "\n",
    "sess = None\n",
    "\n",
    "#aa = np.random.multivariate_normal(mean=[0,0], cov=np.diag([2,3]))\n",
    "#print(aa)\n"
   ]
  },
  {
   "cell_type": "markdown",
   "metadata": {},
   "source": [
    "### Grading\n",
    "We will create a grader instance below and use it to collect your answers. Note that these outputs will be stored locally inside grader and will be uploaded to the platform only after running submit function in the last part of this assignment. If you want to make a partial submission, you can run that cell anytime you want."
   ]
  },
  {
   "cell_type": "code",
   "execution_count": 4,
   "metadata": {},
   "outputs": [],
   "source": [
    "grader = Grader()"
   ]
  },
  {
   "cell_type": "markdown",
   "metadata": {},
   "source": [
    "### Variational Autoencoder"
   ]
  },
  {
   "cell_type": "markdown",
   "metadata": {},
   "source": [
    "Recall that Variational Autoencoder is a probabilistic model of data based on a continious mixture of distributions. In the lecture we covered the mixture of gaussians case, but here we will apply VAE to binary MNIST images (each pixel is either black or white). To better model binary data we will use a continuous mixture of binomial distributions: $p(x \\mid w) = \\int p(x \\mid t, w) p(t) dt$, where the prior distribution on the latent code $t$ is standard normal $p(t) = \\mathcal{N}(0, I)$, but probability that $(i, j)$-th pixel is black equals to $(i, j)$-th output of the decoder neural detwork: $p(x_{i, j} \\mid t, w) = \\text{decoder}(t, w)_{i, j}$.\n",
    "\n",
    "To train this model we would like to maximize marginal log-likelihood of our dataset $\\max_w \\log p(X \\mid w)$, but it's very hard to do computationally, so instead we maximize the Variational Lower Bound w.r.t. both the original parameters $w$ and variational distribution $q$ which we define as encoder neural network with parameters $\\phi$ which takes input image $x$ and outputs parameters of the gaussian distribution $q(t \\mid x, \\phi)$: $\\log p(X \\mid w) \\geq \\mathcal{L}(w, \\phi) \\rightarrow \\max_{w, \\phi}$.\n",
    "\n",
    "So overall our model looks as follows: encoder takes an image $x$, produces a distribution over latent codes $q(t \\mid x)$ which should approximate the posterior distribution $p(t \\mid x)$ (at least after training), samples a point from this distribution $\\widehat{t} \\sim q(t \\mid x, \\phi)$, and finally feeds it into a decoder that outputs a distribution over images.\n",
    "\n",
    "![](VAE.png)\n",
    "\n",
    "In the lecture, we also discussed that variational lower bound has an expected value inside which we are going to approximate with sampling. But it is not trivial since we need to differentiate through this approximation. However, we learned about _reparametrization trick_ which suggests instead of sampling from distribution $\\widehat{t} \\sim q(t \\mid x, \\phi)$ sample from a distribution which doesn't depend on any parameters, e.g. standard normal, and then deterministically transform this sample to the desired one: $\\varepsilon \\sim \\mathcal{N}(0, I); ~~\\widehat{t} = m(x, \\phi) + \\varepsilon \\sigma(x, \\phi)$. This way we don't have to worry about our stochastic gradient being biased and can straightforwardly differentiate our loss w.r.t. all the parameters while treating the current sample $\\varepsilon$ as constant.\n",
    "\n",
    "\n"
   ]
  },
  {
   "cell_type": "markdown",
   "metadata": {},
   "source": [
    "### Variational Lower Bound"
   ]
  },
  {
   "cell_type": "markdown",
   "metadata": {},
   "source": [
    "**Task 1** Derive and implement Variational Lower Bound for the continuous mixture of Binomial distributions.\n",
    "\n",
    "**Note** that to pass the test, your code should work with any mini-batch size.\n",
    "\n",
    "**Also note** that although we need a stochastic estimate of VLB: \n",
    "$$\\text{VLB} = \\sum_{i=1}^N \\text{VLB}_i \\approx \\frac{N}{M}\\sum_{i_s}^M \\text{VLB}_{i_s}$$\n",
    "where $N$ is the dataset size, $\\text{VLB}_i$ is the term of VLB corresponding to the $i$-th object, and $M$ is the mini-batch size; in the function below you need to return just average across the mini-batch $\\frac{1}{M}\\sum_{i_s}^M \\text{VLB}_{i_s}$. People usually optimize this unscaled version of VLB since it doesn't depend on the dataset set size - you can write VLB function once and use it for different datasets - and it doesn't affect optimization (it does affect the learning rate though). The correct value for this unscaled VLB should be around $100 - 170$."
   ]
  },
  {
   "cell_type": "markdown",
   "metadata": {},
   "source": [
    "**Multivariate normal distributions**\n",
    "\n",
    "Suppose that we have two multivariate normal distributions, with means $\\mu _{0},\\mu _{1}$ and with (nonsingular) covariance matrices $\\Sigma _{0},\\Sigma _{1}$. If the two distributions have the same dimension, $k$, then the Kullback–Leibler divergence between the distributions is as follows:\n",
    "\n",
    "![](D-KL-01.png)\n",
    "\n",
    "**Hint:**\n",
    "For positive definite matrix $C$:\n",
    "\n",
    "$\\log(\\det(C))=2\\operatorname{trace}(\\log(L))$\n",
    "\n",
    "**Hint: **\n",
    "\n",
    "$f(x) = \\frac{1}{\\sqrt{(2 \\pi)^k \\det \\Sigma}}\n",
    "       \\exp\\left( -\\frac{1}{2} (x - \\mu)^T \\Sigma^{-1} (x - \\mu) \\right),$"
   ]
  },
  {
   "cell_type": "code",
   "execution_count": 5,
   "metadata": {},
   "outputs": [
    {
     "data": {
      "text/plain": [
       "'1.8.0'"
      ]
     },
     "execution_count": 5,
     "metadata": {},
     "output_type": "execute_result"
    }
   ],
   "source": [
    "tf.__version__"
   ]
  },
  {
   "cell_type": "code",
   "execution_count": 6,
   "metadata": {},
   "outputs": [],
   "source": [
    "def multivariate_normal(x, mu, cov, max_x = 0.0):\n",
    "    d = int(x.shape[0])\n",
    "    \n",
    "    diff_x_mu = x - mu\n",
    "    two_pi = 2.0*np.pi\n",
    "    \n",
    "    diff_x_mu = tf.reshape(diff_x_mu, (d, 1))\n",
    "    \n",
    "    sigma_inv_x = tf.linalg.solve(matrix=cov, rhs=diff_x_mu)\n",
    "    #sigma_inv_x = sigma_inv_x[:, np.newaxis]\n",
    "    det_sigma = tf.linalg.det(cov)\n",
    "    \n",
    "    #normal_num_1 = pi[c] * np.exp(-0.5 * np.matmul(a=np.transpose(diff_X_mu), b=sigma_inv_x) - max_x)\n",
    "    normal_num_1 = tf.exp(-0.5 * tf.matmul(a=tf.transpose(diff_x_mu), b=sigma_inv_x)) * np.exp(-max_x)\n",
    "    normal_denum_1 = tf.sqrt(np.power(two_pi, d) * det_sigma) * np.exp(-max_x)\n",
    "    \n",
    "    normal_num_1 = tf.Print(normal_num_1, [normal_num_1], 'Hamid: ')\n",
    "\n",
    "    return normal_num_1 / normal_denum_1\n",
    "\n",
    "def multivariate_normal_log_no_const(x, mu, cov, max_x = 0.0):\n",
    "    d = int(x.shape[0])\n",
    "    \n",
    "    #print('d1: ', int(mu.shape[0]))\n",
    "    #print('d2: ', int(mu.shape[1]))\n",
    "    \n",
    "    diff_x_mu = x - mu\n",
    "    diff_x_mu = tf.reshape(diff_x_mu, (d, 1))\n",
    "    \n",
    "    two_pi = 2.0*np.pi\n",
    "\n",
    "    sigma_inv_x = tf.linalg.solve(matrix=cov, rhs=diff_x_mu)\n",
    "    #sigma_inv_x = sigma_inv_x[:, np.newaxis]\n",
    "    det_sigma = tf.linalg.det(cov)\n",
    "    \n",
    "    #det_sigma = tf.Print(det_sigma, [det_sigma], 'Hamid: ')\n",
    "\n",
    "    #log_p = -0.5*d*tf.log(two_pi) - 0.5*tf.log(det_sigma) - 0.5*tf.matmul(a=tf.transpose(diff_x_mu), b=sigma_inv_x)\n",
    "    log_p = - 0.5*tf.matmul(a=tf.transpose(diff_x_mu), b=sigma_inv_x)\n",
    "    \n",
    "    return log_p\n"
   ]
  },
  {
   "cell_type": "code",
   "execution_count": 7,
   "metadata": {},
   "outputs": [],
   "source": [
    "import tensorflow.contrib.distributions as tf_dist\n",
    "\n",
    "def vlb_binomial(x, x_decoded_mean, t_mean, t_log_var):\n",
    "    \"\"\"Returns the value of Variational Lower Bound\n",
    "    \n",
    "    The inputs are tf.Tensor\n",
    "        x: (batch_size x number_of_pixels) matrix with one image per row with zeros and ones\n",
    "        x_decoded_mean: (batch_size x number_of_pixels) mean of the distribution p(x | t), real numbers from 0 to 1\n",
    "        t_mean: (batch_size x latent_dim) mean vector of the (normal) distribution q(t | x)\n",
    "        t_log_var: (batch_size x latent_dim) logarithm of the variance vector of the (normal) distribution q(t | x)\n",
    "    \n",
    "    Returns:\n",
    "        A tf.Tensor with one element (averaged across the batch), VLB\n",
    "    \"\"\"\n",
    "    \n",
    "    batch_size = int(x.shape[0])\n",
    "    number_of_pixels = x.shape[1]\n",
    "    latent_dim = t_mean.shape[1]\n",
    "    \n",
    "    #q_dist_ti = np.zeros(())\n",
    "    \n",
    "    vlb_batch = 0.0\n",
    "    #D_KL = 0.0\n",
    "    \n",
    "    print('number_of_pixels: ', number_of_pixels)\n",
    "    print('latent_dim: ', latent_dim)\n",
    "    \n",
    "    #aa = [op.name for op in tf.get_default_graph().get_operations() if op.op_def]\n",
    "    #print('List: ', aa)\n",
    "    \n",
    "    D_KL_list = []\n",
    "    t_var = tf.exp(t_log_var)\n",
    "    \n",
    "    for i_b in range(batch_size):\n",
    "    #for i_b in range(1):\n",
    "        \n",
    "        D_KL = 0.5*(tf.reduce_sum(t_var[i_b]) + tf.tensordot(t_mean[i_b], t_mean[i_b], axes = [[0], [0]])\n",
    "                    - tf.to_float(latent_dim) - tf.log(tf.matrix_determinant(tf.diag(t_var[i_b]))))\n",
    "        \n",
    "        #decoder_distribution = tf_dist.MultivariateNormalDiag(loc=x_decoded_mean[i_b], scale_diag=tf.ones(shape=(int(number_of_pixels))))\n",
    "        #decoder_distribution = tf_dist.MultivariateNormalDiag(loc=x_decoded_mean[i_b])\n",
    "        #reconstruction_loss = decoder_distribution.log_prob(x[i_b])\n",
    "        \n",
    "        reconstruction_loss = multivariate_normal_log_no_const(x[i_b], x_decoded_mean[i_b], tf.eye(int(number_of_pixels)))\n",
    "        \n",
    "        #reconstruction_loss = tf.Print(reconstruction_loss, [reconstruction_loss], 'reconstruction_loss: ')\n",
    "\n",
    "        #epsilon = np.random.normal(np.zeros((latent_dim, 1)), np.identity(latent_dim))\n",
    "        q_distribution = tf_dist.MultivariateNormalDiag(loc=t_mean[i_b], scale_diag=tf.sqrt(t_var[i_b]))\n",
    "        sample_t_i = q_distribution.sample()\n",
    "        q_t_i = q_distribution.prob(value=sample_t_i)\n",
    "        \n",
    "        #q_t_i = tf.Print(q_t_i, [q_t_i, sample_t_i], 'q_t_i: ')\n",
    "\n",
    "        #tf_dist.MultivariateNormalDiag.prob\n",
    "        #q_sampled = st.multivariate_normal(mean=t_mean[i_b], cov=epsilon * t_var[i_b], allow_singular=True)\n",
    "        \n",
    "        exp_val_reconstruction_loss = q_t_i * reconstruction_loss\n",
    "        \n",
    "        #distribution = st.multivariate_normal(mean=x[i_b], cov=np.identity(number_of_pixels), allow_singular=True)\n",
    "        #for i_p in range(number_of_pixels):\n",
    "        #    exp_of_recunstruction_loss = gamma[n,k]*(np.log(pi[k]+0.00001)+dist.logpdf(X[n,:])-np.log(gamma[n,k]+0.000001))\n",
    "        \n",
    "        #q_sampled = np.random.multivariate_normal(mean=t_mean[i_b], cov=np.diag(np.exp(t_log_var[i_b])), size=(latent_dim))\n",
    "        #q_distribution = st.multivariate_normal(t_mean[i_b], np.diag(np.exp(t_log_var[i_b])), allow_singular=True)\n",
    "        \n",
    "        #D_KL_list.append((exp_val_reconstruction_loss - D_KL) / tf.to_float(batch_size))\n",
    "        \n",
    "        batch_vlb = -(exp_val_reconstruction_loss - D_KL) / tf.to_float(batch_size)\n",
    "        \n",
    "        D_KL_list.append(batch_vlb)\n",
    "    \n",
    "    D_KL = tf.add_n(D_KL_list)\n",
    "    \n",
    "    return D_KL\n",
    "    \n",
    "    ### YOUR CODE HERE"
   ]
  },
  {
   "cell_type": "code",
   "execution_count": 8,
   "metadata": {},
   "outputs": [],
   "source": [
    "if(sess):\n",
    "    sess.close()\n",
    "    sess = None\n",
    "    \n",
    "    print('Session is closed.')\n",
    "\n",
    "tf.reset_default_graph()\n",
    "\n",
    "#get_new_tf_session = False\n",
    "\n",
    "# Start tf session so we can run code.\n",
    "sess = tf.InteractiveSession()\n",
    "# Connect keras to the created session.\n",
    "K.sess = sess\n",
    "#K.set_session(sess)\n"
   ]
  },
  {
   "cell_type": "code",
   "execution_count": 9,
   "metadata": {
    "scrolled": false
   },
   "outputs": [
    {
     "name": "stdout",
     "output_type": "stream",
     "text": [
      "number_of_pixels:  784\n",
      "latent_dim:  2\n",
      "Current answer for task 1 (vlb) is: 99.09174346923828\n"
     ]
    }
   ],
   "source": [
    "grader.submit_vlb(sess, vlb_binomial)"
   ]
  },
  {
   "cell_type": "markdown",
   "metadata": {},
   "source": [
    "## Encoder / decoder definition"
   ]
  },
  {
   "cell_type": "code",
   "execution_count": null,
   "metadata": {},
   "outputs": [],
   "source": []
  },
  {
   "cell_type": "code",
   "execution_count": 10,
   "metadata": {},
   "outputs": [
    {
     "name": "stdout",
     "output_type": "stream",
     "text": [
      "global vars count... 0\n"
     ]
    }
   ],
   "source": [
    "print('global vars count...', len(tf.global_variables()))"
   ]
  },
  {
   "cell_type": "markdown",
   "metadata": {},
   "source": [
    "**Task 2** Read the code below that defines encoder and decoder networks and implement sampling with reparametrization trick in the provided space."
   ]
  },
  {
   "cell_type": "code",
   "execution_count": 11,
   "metadata": {
    "scrolled": false
   },
   "outputs": [
    {
     "name": "stdout",
     "output_type": "stream",
     "text": [
      "sampling started... 4\n",
      "i_b=100 out of 100\n",
      "sampled_tensor.shape=(100, 3)\n",
      "sampling started... 4\n",
      "i_b=100 out of 100\n",
      "sampled_tensor.shape=(100, 3)\n"
     ]
    }
   ],
   "source": [
    "batch_size = 100\n",
    "original_dim = 784 # Number of pixels in MNIST images.\n",
    "latent_dim = 3 # d, dimensionality of the latent code t.\n",
    "intermediate_dim = 256 # Size of the hidden layer.\n",
    "epochs = 3\n",
    "\n",
    "x = Input(batch_shape=(batch_size, original_dim))\n",
    "def create_encoder(input_dim):\n",
    "    # Encoder network.\n",
    "    # We instantiate these layers separately so as to reuse them later\n",
    "    encoder = Sequential(name='encoder')\n",
    "    encoder.add(InputLayer([input_dim]))\n",
    "    encoder.add(Dense(intermediate_dim, activation='relu'))\n",
    "    encoder.add(Dense(2 * latent_dim))\n",
    "    return encoder\n",
    "encoder = create_encoder(original_dim)\n",
    "\n",
    "get_t_mean = Lambda(lambda h: h[:, :latent_dim])\n",
    "get_t_log_var = Lambda(lambda h: h[:, latent_dim:])\n",
    "h = encoder(x)\n",
    "t_mean = get_t_mean(h)\n",
    "t_log_var = get_t_log_var(h)\n",
    "\n",
    "# Sampling from the distribution \n",
    "#     q(t | x) = N(t_mean, exp(t_log_var))\n",
    "# with reparametrization trick.\n",
    "def sampling(args):\n",
    "    \"\"\"Returns sample from a distribution N(args[0], diag(args[1]))\n",
    "    \n",
    "    The sample should be computed with reparametrization trick.\n",
    "    \n",
    "    The inputs are tf.Tensor\n",
    "        args[0]: (batch_size x latent_dim) mean of the desired distribution\n",
    "        args[1]: (batch_size x latent_dim) logarithm of the variance vector of the desired distribution\n",
    "    \n",
    "    Returns:\n",
    "        A tf.Tensor of size (batch_size x latent_dim), the samples.\n",
    "    \"\"\"\n",
    "    t_mean, t_log_var = args\n",
    "    # YOUR CODE HERE\n",
    "    \n",
    "    t_var = tf.exp(t_log_var)\n",
    "    batch_size = int(t_mean.shape[0])\n",
    "    latent_dim = int(t_mean.shape[1])\n",
    "    \n",
    "    print('sampling nodes creation started...', len(tf.global_variables()))\n",
    "    \n",
    "    #sampled_tensor = tf.placeholder(dtype=tf.float32, shape=(batch_size, latent_dim), name='sampled_tensor')\n",
    "    \n",
    "    sampled_list = []\n",
    "    \n",
    "    epsilon_distribution = tf_dist.MultivariateNormalFullCovariance(loc=np.zeros(latent_dim, dtype=np.float32), covariance_matrix=np.identity(latent_dim, dtype=np.float32))\n",
    "    \n",
    "    for i_b in range(batch_size):\n",
    "        epsilon = epsilon_distribution.sample()\n",
    "        #epsilon = tf.cond(tf.constant(i_b % 100 == 0, dtype=tf.bool), true_fn=lambda:tf.Print(epsilon, [i_b, epsilon], 'batch: ', summarize=10), false_fn=lambda:epsilon)\n",
    "\n",
    "        #epsilon = np.random.multivariate_normal(np.zeros(latent_dim), np.identity(latent_dim))\n",
    "        #print(epsilon)\n",
    "        \n",
    "        if(i_b % 100 == 99):\n",
    "            epsilon = tf.Print(epsilon, [i_b+1, batch_size, epsilon], 'batch & batch-size: ', summarize=10)\n",
    "            print('i_b={} out of {}'.format(i_b+1, batch_size))\n",
    "            #break\n",
    "    \n",
    "        #epsilon = tf.Print(epsilon, [i_b, epsilon], 'batch: ', summarize=10)\n",
    "        sampled_list.append(t_mean[i_b] + epsilon * t_var[i_b])\n",
    "\n",
    "    #with tf.variable_scope(\"sampling\", reuse=tf.AUTO_REUSE):\n",
    "    sampled_tensor = tf.stack(values=sampled_list, name='sampled_tensor')\n",
    "    \n",
    "    sampled_tensor = tf.Print(sampled_tensor, [sampled_tensor.shape], 'sampled_tensor.shape: ', summarize=10)\n",
    "    print('sampled_tensor.shape={}'.format(sampled_tensor.shape))\n",
    "    \n",
    "    return sampled_tensor\n",
    "\n",
    "t = Lambda(sampling)([t_mean, t_log_var])\n",
    "\n",
    "def create_decoder(input_dim):\n",
    "    # Decoder network\n",
    "    # We instantiate these layers separately so as to reuse them later\n",
    "    decoder = Sequential(name='decoder')\n",
    "    decoder.add(InputLayer([input_dim]))\n",
    "    decoder.add(Dense(intermediate_dim, activation='relu'))\n",
    "    decoder.add(Dense(original_dim, activation='sigmoid'))\n",
    "    return decoder\n",
    "decoder = create_decoder(latent_dim)\n",
    "x_decoded_mean = decoder(t)"
   ]
  },
  {
   "cell_type": "code",
   "execution_count": 12,
   "metadata": {},
   "outputs": [],
   "source": [
    "#import importlib\n",
    "#importlib.reload(grader)\n",
    "#from grader import Grader"
   ]
  },
  {
   "cell_type": "code",
   "execution_count": 13,
   "metadata": {
    "scrolled": false
   },
   "outputs": [
    {
     "name": "stdout",
     "output_type": "stream",
     "text": [
      "sampling started... 8\n",
      "i_b=100 out of 10000\n",
      "i_b=200 out of 10000\n",
      "i_b=300 out of 10000\n",
      "i_b=400 out of 10000\n",
      "i_b=500 out of 10000\n",
      "i_b=600 out of 10000\n",
      "i_b=700 out of 10000\n",
      "i_b=800 out of 10000\n",
      "i_b=900 out of 10000\n",
      "i_b=1000 out of 10000\n",
      "i_b=1100 out of 10000\n",
      "i_b=1200 out of 10000\n",
      "i_b=1300 out of 10000\n",
      "i_b=1400 out of 10000\n",
      "i_b=1500 out of 10000\n",
      "i_b=1600 out of 10000\n",
      "i_b=1700 out of 10000\n",
      "i_b=1800 out of 10000\n",
      "i_b=1900 out of 10000\n",
      "i_b=2000 out of 10000\n",
      "i_b=2100 out of 10000\n",
      "i_b=2200 out of 10000\n",
      "i_b=2300 out of 10000\n",
      "i_b=2400 out of 10000\n",
      "i_b=2500 out of 10000\n",
      "i_b=2600 out of 10000\n",
      "i_b=2700 out of 10000\n",
      "i_b=2800 out of 10000\n",
      "i_b=2900 out of 10000\n",
      "i_b=3000 out of 10000\n",
      "i_b=3100 out of 10000\n",
      "i_b=3200 out of 10000\n",
      "i_b=3300 out of 10000\n",
      "i_b=3400 out of 10000\n",
      "i_b=3500 out of 10000\n",
      "i_b=3600 out of 10000\n",
      "i_b=3700 out of 10000\n",
      "i_b=3800 out of 10000\n",
      "i_b=3900 out of 10000\n",
      "i_b=4000 out of 10000\n",
      "i_b=4100 out of 10000\n",
      "i_b=4200 out of 10000\n",
      "i_b=4300 out of 10000\n",
      "i_b=4400 out of 10000\n",
      "i_b=4500 out of 10000\n",
      "i_b=4600 out of 10000\n",
      "i_b=4700 out of 10000\n",
      "i_b=4800 out of 10000\n",
      "i_b=4900 out of 10000\n",
      "i_b=5000 out of 10000\n",
      "i_b=5100 out of 10000\n",
      "i_b=5200 out of 10000\n",
      "i_b=5300 out of 10000\n",
      "i_b=5400 out of 10000\n",
      "i_b=5500 out of 10000\n",
      "i_b=5600 out of 10000\n",
      "i_b=5700 out of 10000\n",
      "i_b=5800 out of 10000\n",
      "i_b=5900 out of 10000\n",
      "i_b=6000 out of 10000\n",
      "i_b=6100 out of 10000\n",
      "i_b=6200 out of 10000\n",
      "i_b=6300 out of 10000\n",
      "i_b=6400 out of 10000\n",
      "i_b=6500 out of 10000\n",
      "i_b=6600 out of 10000\n",
      "i_b=6700 out of 10000\n",
      "i_b=6800 out of 10000\n",
      "i_b=6900 out of 10000\n",
      "i_b=7000 out of 10000\n",
      "i_b=7100 out of 10000\n",
      "i_b=7200 out of 10000\n",
      "i_b=7300 out of 10000\n",
      "i_b=7400 out of 10000\n",
      "i_b=7500 out of 10000\n",
      "i_b=7600 out of 10000\n",
      "i_b=7700 out of 10000\n",
      "i_b=7800 out of 10000\n",
      "i_b=7900 out of 10000\n",
      "i_b=8000 out of 10000\n",
      "i_b=8100 out of 10000\n",
      "i_b=8200 out of 10000\n",
      "i_b=8300 out of 10000\n",
      "i_b=8400 out of 10000\n",
      "i_b=8500 out of 10000\n",
      "i_b=8600 out of 10000\n",
      "i_b=8700 out of 10000\n",
      "i_b=8800 out of 10000\n",
      "i_b=8900 out of 10000\n",
      "i_b=9000 out of 10000\n",
      "i_b=9100 out of 10000\n",
      "i_b=9200 out of 10000\n",
      "i_b=9300 out of 10000\n",
      "i_b=9400 out of 10000\n",
      "i_b=9500 out of 10000\n",
      "i_b=9600 out of 10000\n",
      "i_b=9700 out of 10000\n",
      "i_b=9800 out of 10000\n",
      "i_b=9900 out of 10000\n",
      "i_b=10000 out of 10000\n",
      "sampled_tensor.shape=(10000, 2)\n",
      "Current answer for task 2.1 (samples mean) is: -0.121760085\n",
      "Current answer for task 2.2 (samples var) is: 0.0014011116\n"
     ]
    }
   ],
   "source": [
    "grader.submit_samples(sess, sampling)"
   ]
  },
  {
   "cell_type": "markdown",
   "metadata": {},
   "source": [
    "## Training the model"
   ]
  },
  {
   "cell_type": "markdown",
   "metadata": {},
   "source": [
    "**Task 3** Run the cells below to train the model with the default settings. Modify the parameters to get better results. Especially pay attention the encoder / encoder architectures (e.g. using more layers, maybe making them convolutional), learning rate, and the number of epochs."
   ]
  },
  {
   "cell_type": "code",
   "execution_count": 14,
   "metadata": {
    "scrolled": true
   },
   "outputs": [
    {
     "name": "stdout",
     "output_type": "stream",
     "text": [
      "number_of_pixels:  784\n",
      "latent_dim:  3\n"
     ]
    }
   ],
   "source": [
    "loss = vlb_binomial(x, x_decoded_mean, t_mean, t_log_var)\n",
    "vae = Model(x, x_decoded_mean)\n",
    "# Keras will provide input (x) and output (x_decoded_mean) to the function that\n",
    "# should construct loss, but since our function also depends on other\n",
    "# things (e.g. t_means), it is easier to build the loss in advance and pass\n",
    "# a function that always returns it.\n",
    "vae.compile(optimizer=keras.optimizers.RMSprop(lr=0.001), loss=lambda x, y: loss)"
   ]
  },
  {
   "cell_type": "code",
   "execution_count": null,
   "metadata": {},
   "outputs": [],
   "source": []
  },
  {
   "cell_type": "markdown",
   "metadata": {},
   "source": [
    "#### Load and prepare the data"
   ]
  },
  {
   "cell_type": "code",
   "execution_count": 15,
   "metadata": {},
   "outputs": [],
   "source": [
    "# train the VAE on MNIST digits\n",
    "(x_train, y_train), (x_test, y_test) = mnist.load_data()\n",
    "# One hot encoding.\n",
    "y_train = np_utils.to_categorical(y_train)\n",
    "y_test = np_utils.to_categorical(y_test)\n",
    "\n",
    "x_train = x_train.astype('float32') / 255.\n",
    "x_test = x_test.astype('float32') / 255.\n",
    "x_train = x_train.reshape((len(x_train), np.prod(x_train.shape[1:])))\n",
    "x_test = x_test.reshape((len(x_test), np.prod(x_test.shape[1:])))"
   ]
  },
  {
   "cell_type": "code",
   "execution_count": null,
   "metadata": {},
   "outputs": [],
   "source": []
  },
  {
   "cell_type": "markdown",
   "metadata": {},
   "source": [
    "#### Train the model"
   ]
  },
  {
   "cell_type": "code",
   "execution_count": 16,
   "metadata": {
    "scrolled": false
   },
   "outputs": [
    {
     "name": "stdout",
     "output_type": "stream",
     "text": [
      "Train on 60000 samples, validate on 10000 samples\n",
      "Epoch 1/3\n",
      " - 3646s - loss: 0.5146 - val_loss: 0.4596\n",
      "Epoch 2/3\n",
      " - 2154s - loss: 0.4482 - val_loss: 0.4446\n",
      "Epoch 3/3\n",
      " - 2128s - loss: 0.4488 - val_loss: 0.4527\n"
     ]
    }
   ],
   "source": [
    "hist = vae.fit(x=x_train, y=x_train,\n",
    "               shuffle=True,\n",
    "               epochs=epochs,\n",
    "               batch_size=batch_size,\n",
    "               validation_data=(x_test, x_test),\n",
    "               verbose=2)"
   ]
  },
  {
   "cell_type": "markdown",
   "metadata": {},
   "source": [
    "### Visualize reconstructions for train and validation data\n",
    "In the picture below you can see the reconstruction ability of your network on training and validation data. In each of the two images, the left column is MNIST images and the right column is the corresponding image after passing through autoencoder (or more precisely the mean of the binomial distribution over the output images).\n",
    "\n",
    "Note that getting the best possible reconstruction is not the point of VAE, the KL term of the objective specifically hurts the reconstruction performance. But the reconstruction should be anyway reasonable and they provide a visual debugging tool."
   ]
  },
  {
   "cell_type": "code",
   "execution_count": 17,
   "metadata": {},
   "outputs": [
    {
     "data": {
      "text/plain": [
       "100"
      ]
     },
     "execution_count": 17,
     "metadata": {},
     "output_type": "execute_result"
    }
   ],
   "source": [
    "batch_size"
   ]
  },
  {
   "cell_type": "code",
   "execution_count": 18,
   "metadata": {},
   "outputs": [
    {
     "data": {
      "image/png": "[encoded data removed]",
      "text/plain": [
       "<Figure size 720x720 with 2 Axes>"
      ]
     },
     "metadata": {},
     "output_type": "display_data"
    }
   ],
   "source": [
    "fig = plt.figure(figsize=(10, 10))\n",
    "for fid_idx, (data, title) in enumerate(\n",
    "            zip([x_train, x_test], ['Train', 'Validation'])):\n",
    "    n = 10  # figure with 10 x 2 digits\n",
    "    digit_size = 28\n",
    "    figure = np.zeros((digit_size * n, digit_size * 2))\n",
    "    decoded = sess.run(x_decoded_mean, feed_dict={x: data[:batch_size, :]})\n",
    "    for i in range(10):\n",
    "        figure[i * digit_size: (i + 1) * digit_size,\n",
    "               :digit_size] = data[i, :].reshape(digit_size, digit_size)\n",
    "        figure[i * digit_size: (i + 1) * digit_size,\n",
    "               digit_size:] = decoded[i, :].reshape(digit_size, digit_size)\n",
    "    ax = fig.add_subplot(1, 2, fid_idx + 1)\n",
    "    ax.imshow(figure, cmap='Greys_r')\n",
    "    ax.set_title(title)\n",
    "    ax.axis('off')\n",
    "plt.show()"
   ]
  },
  {
   "cell_type": "markdown",
   "metadata": {
    "collapsed": true
   },
   "source": [
    "### Sending the results of your best model as Task 3 submission"
   ]
  },
  {
   "cell_type": "code",
   "execution_count": null,
   "metadata": {},
   "outputs": [],
   "source": [
    "grader.submit_best_val_loss(hist)"
   ]
  },
  {
   "cell_type": "markdown",
   "metadata": {},
   "source": [
    "## Hallucinating new data\n",
    "**Task 4** Write code to generate new samples of images from your trained VAE. To do that you have to sample from the prior distribution $p(t)$ and then from the likelihood $p(x \\mid t)$.\n",
    "\n",
    "**Note** that the sampling you've written in Task 2 was for the variational distribution $q(t \\mid x)$, while here you need to sample from the prior."
   ]
  },
  {
   "cell_type": "code",
   "execution_count": null,
   "metadata": {},
   "outputs": [],
   "source": [
    "n_samples = 10  # To pass automatic grading please use at least 2 samples here.\n",
    "# YOUR CODE HERE.\n",
    "# ...\n",
    "# sampled_im_mean is a tf.Tensor of size 10 x 784 with 10 random\n",
    "# images sampled from the vae model.\n",
    "sampled_im_mean = "
   ]
  },
  {
   "cell_type": "code",
   "execution_count": null,
   "metadata": {
    "collapsed": true
   },
   "outputs": [],
   "source": [
    "sampled_im_mean_np = sess.run(sampled_im_mean)\n",
    "# Show the sampled images.\n",
    "plt.figure()\n",
    "for i in range(n_samples):\n",
    "    ax = plt.subplot(n_samples // 5 + 1, 5, i + 1)\n",
    "    plt.imshow(sampled_im_mean_np[i, :].reshape(28, 28), cmap='gray')\n",
    "    ax.axis('off')\n",
    "plt.show()"
   ]
  },
  {
   "cell_type": "code",
   "execution_count": null,
   "metadata": {},
   "outputs": [],
   "source": [
    "grader.submit_hallucinating(sess, sampled_im_mean)"
   ]
  },
  {
   "cell_type": "markdown",
   "metadata": {},
   "source": [
    "# Conditional VAE"
   ]
  },
  {
   "cell_type": "markdown",
   "metadata": {},
   "source": [
    "In the final task, you will modify your code to obtain Conditional Variational Autoencoder [1]. The idea is very simple: to be able to control the samples you generate, we condition all the distributions on some additional information. In our case, this additional information will be the class label (the digit on the image, from 0 to 9).\n",
    "\n",
    "![](CVAE.png)\n",
    "\n",
    "So now both the likelihood and the variational distributions are conditioned on the class label: $p(x \\mid t, \\text{label}, w)$, $q(t \\mid x, \\text{label}, \\phi)$.\n",
    "\n",
    "The only thing you have to change in your code is to concatenate input image $x$ with (one-hot) label of this image to pass into the encoder $q$ and to concatenate latent code $t$ with the same label to pass into the decoder $p$. Note that it's slightly harder to do with convolutional encoder / decoder model.\n",
    "\n",
    "[1] Sohn, Kihyuk, Honglak Lee, and Xinchen Yan. “Learning Structured Output Representation using Deep Conditional Generative Models.” Advances in Neural Information Processing Systems. 2015."
   ]
  },
  {
   "cell_type": "markdown",
   "metadata": {},
   "source": [
    "## Final task"
   ]
  },
  {
   "cell_type": "markdown",
   "metadata": {},
   "source": [
    "**Task 5.1** Implement CVAE model. You may reuse ```create_encoder``` and ```create_decoder``` modules defined previously (now you can see why they accept the input size as an argument ;) ). You may also need `concatenate` Keras layer to concat labels with input data and latent code.\n",
    "\n",
    "To finish this task, you should go to `Conditionally hallucinate data` section and find there Task 5.2"
   ]
  },
  {
   "cell_type": "code",
   "execution_count": null,
   "metadata": {},
   "outputs": [],
   "source": [
    "# One-hot labels placeholder.\n",
    "x = Input(batch_shape=(batch_size, original_dim))\n",
    "label = Input(batch_shape=(batch_size, 10))\n",
    "\n",
    "# YOUR CODE HERE.\n",
    "cond_t_mean =  # Mean of the latent code (without label) for cvae model.\n",
    "cond_t_log_var = # Logarithm of the variance of the latent code (without label) for cvae model.\n",
    "cond_x_decoded_mean =  # Final output of the cvae model."
   ]
  },
  {
   "cell_type": "markdown",
   "metadata": {},
   "source": [
    "## Define the loss and the model"
   ]
  },
  {
   "cell_type": "code",
   "execution_count": null,
   "metadata": {},
   "outputs": [],
   "source": [
    "conditional_loss = vlb_binomial(x, cond_x_decoded_mean, cond_t_mean, cond_t_log_var)\n",
    "cvae = Model([x, label], cond_x_decoded_mean)\n",
    "cvae.compile(optimizer=keras.optimizers.RMSprop(lr=0.001), loss=lambda x, y: conditional_loss)"
   ]
  },
  {
   "cell_type": "markdown",
   "metadata": {},
   "source": [
    "### Train the model"
   ]
  },
  {
   "cell_type": "code",
   "execution_count": null,
   "metadata": {},
   "outputs": [],
   "source": [
    "hist = cvae.fit(x=[x_train, y_train],\n",
    "                y=x_train,\n",
    "                shuffle=True,\n",
    "                epochs=epochs,\n",
    "                batch_size=batch_size,\n",
    "                validation_data=([x_test, y_test], x_test),\n",
    "                verbose=2)"
   ]
  },
  {
   "cell_type": "markdown",
   "metadata": {},
   "source": [
    "### Visualize reconstructions for train and validation data"
   ]
  },
  {
   "cell_type": "code",
   "execution_count": null,
   "metadata": {},
   "outputs": [],
   "source": [
    "fig = plt.figure(figsize=(10, 10))\n",
    "for fid_idx, (x_data, y_data, title) in enumerate(\n",
    "            zip([x_train, x_test], [y_train, y_test], ['Train', 'Validation'])):\n",
    "    n = 10  # figure with 10 x 2 digits\n",
    "    digit_size = 28\n",
    "    figure = np.zeros((digit_size * n, digit_size * 2))\n",
    "    decoded = sess.run(cond_x_decoded_mean,\n",
    "                       feed_dict={x: x_data[:batch_size, :],\n",
    "                                  label: y_data[:batch_size, :]})\n",
    "    for i in range(10):\n",
    "        figure[i * digit_size: (i + 1) * digit_size,\n",
    "               :digit_size] = x_data[i, :].reshape(digit_size, digit_size)\n",
    "        figure[i * digit_size: (i + 1) * digit_size,\n",
    "               digit_size:] = decoded[i, :].reshape(digit_size, digit_size)\n",
    "    ax = fig.add_subplot(1, 2, fid_idx + 1)\n",
    "    ax.imshow(figure, cmap='Greys_r')\n",
    "    ax.set_title(title)\n",
    "    ax.axis('off')\n",
    "plt.show()"
   ]
  },
  {
   "cell_type": "markdown",
   "metadata": {},
   "source": [
    "## Conditionally hallucinate data\n",
    "**Task 5.2** Implement the conditional sampling from the distribution $p(x \\mid t, \\text{label})$ by firstly sampling from the prior $p(t)$ and then sampling from the likelihood $p(x \\mid t, \\text{label})$."
   ]
  },
  {
   "cell_type": "code",
   "execution_count": null,
   "metadata": {},
   "outputs": [],
   "source": [
    "# Prepare one hot labels of form\n",
    "#   0 0 0 0 0 1 1 1 1 1 2 2 2 2 2 ...\n",
    "# to sample five zeros, five ones, etc\n",
    "curr_labels = np.eye(10)\n",
    "curr_labels = np.repeat(curr_labels, 5, axis=0)  # Its shape is 50 x 10.\n",
    "# YOUR CODE HERE.\n",
    "# ...\n",
    "# cond_sampled_im_mean is a tf.Tensor of size 50 x 784 with 5 random zeros,\n",
    "# then 5 random ones, etc sampled from the cvae model.\n",
    "cond_sampled_im_mean = "
   ]
  },
  {
   "cell_type": "code",
   "execution_count": null,
   "metadata": {
    "collapsed": true
   },
   "outputs": [],
   "source": [
    "cond_sampled_im_mean_np = sess.run(cond_sampled_im_mean)\n",
    "# Show the sampled images.\n",
    "plt.figure(figsize=(10, 10))\n",
    "global_idx = 0\n",
    "for digit in range(10):\n",
    "    for _ in range(5):\n",
    "        ax = plt.subplot(10, 5, global_idx + 1)\n",
    "        plt.imshow(cond_sampled_im_mean_np[global_idx, :].reshape(28, 28), cmap='gray')\n",
    "        ax.axis('off')\n",
    "        global_idx += 1\n",
    "plt.show()"
   ]
  },
  {
   "cell_type": "code",
   "execution_count": null,
   "metadata": {},
   "outputs": [],
   "source": [
    "# Submit Task 5 (both 5.1 and 5.2).\n",
    "grader.submit_conditional_hallucinating(sess, cond_sampled_im_mean)"
   ]
  },
  {
   "cell_type": "markdown",
   "metadata": {},
   "source": [
    "# Authorization & Submission\n",
    "To submit assignment parts to Cousera platform, please, enter your e-mail and token into variables below. You can generate the token on this programming assignment page. <b>Note:</b> Token expires 30 minutes after generation."
   ]
  },
  {
   "cell_type": "code",
   "execution_count": null,
   "metadata": {},
   "outputs": [],
   "source": [
    "STUDENT_EMAIL =  # EMAIL HERE\n",
    "STUDENT_TOKEN =  # TOKEN HERE\n",
    "grader.status()"
   ]
  },
  {
   "cell_type": "code",
   "execution_count": null,
   "metadata": {},
   "outputs": [],
   "source": [
    "grader.submit(STUDENT_EMAIL, STUDENT_TOKEN)"
   ]
  },
  {
   "cell_type": "markdown",
   "metadata": {},
   "source": [
    "# Playtime (UNGRADED)\n",
    "Once you passed all the tests, modify the code below to work with the mixture of Gaussian distributions (in contrast to the mixture of Binomial distributions), and redo the experiments with CIFAR-10 dataset, which are much full color natural images."
   ]
  },
  {
   "cell_type": "code",
   "execution_count": null,
   "metadata": {},
   "outputs": [],
   "source": [
    "from keras.datasets import cifar10\n",
    "(x_train, y_train), (x_test, y_test) = cifar10.load_data()"
   ]
  },
  {
   "cell_type": "code",
   "execution_count": 4,
   "metadata": {},
   "outputs": [
    {
     "data": {
      "image/png": "[encoded data removed]",
      "text/plain": [
       "<matplotlib.figure.Figure at 0x122530410>"
      ]
     },
     "metadata": {},
     "output_type": "display_data"
    }
   ],
   "source": [
    "plt.imshow(x_train[7, :])\n",
    "plt.show()"
   ]
  },
  {
   "cell_type": "code",
   "execution_count": null,
   "metadata": {
    "collapsed": true
   },
   "outputs": [],
   "source": [
    "import matplotlib.pyplot as plt\n",
    "mean = [0, 0]\n",
    "cov = [[1, 0], [0, 1]]  # diagonal covariance\n",
    "x, y = np.random.multivariate_normal(mean, cov, 5).T\n",
    "plt.plot(x, y, 'x')\n",
    "plt.axis('equal')\n",
    "plt.show()"
   ]
  }
 ],
 "metadata": {
  "kernelspec": {
   "display_name": "Python 3",
   "language": "python",
   "name": "python3"
  },
  "language_info": {
   "codemirror_mode": {
    "name": "ipython",
    "version": 3
   },
   "file_extension": ".py",
   "mimetype": "text/x-python",
   "name": "python",
   "nbconvert_exporter": "python",
   "pygments_lexer": "ipython3",
   "version": "3.6.5"
  }
 },
 "nbformat": 4,
 "nbformat_minor": 2
}
